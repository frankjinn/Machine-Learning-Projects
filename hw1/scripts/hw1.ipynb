{
 "cells": [
  {
   "cell_type": "markdown",
   "metadata": {},
   "source": [
    "Start of Question 3"
   ]
  },
  {
   "cell_type": "code",
   "execution_count": 1,
   "metadata": {},
   "outputs": [
    {
     "name": "stdout",
     "output_type": "stream",
     "text": [
      "Requirement already satisfied: pip in f:\\anaconda\\lib\\site-packages (23.3.2)\n",
      "Note: you may need to restart the kernel to use updated packages.\n"
     ]
    }
   ],
   "source": [
    "pip install --upgrade pip"
   ]
  },
  {
   "cell_type": "code",
   "execution_count": 2,
   "metadata": {},
   "outputs": [
    {
     "name": "stdout",
     "output_type": "stream",
     "text": [
      "Using pip 23.3.2 from f:\\Anaconda\\Lib\\site-packages\\pip (python 3.11)\n",
      "Note: you may need to restart the kernel to use updated packages.\n"
     ]
    },
    {
     "name": "stderr",
     "output_type": "stream",
     "text": [
      "ERROR: rbose is not a valid editable requirement. It should either be a path to a local project or a VCS URL (beginning with bzr+http, bzr+https, bzr+ssh, bzr+sftp, bzr+ftp, bzr+lp, bzr+file, git+http, git+https, git+ssh, git+git, git+file, hg+file, hg+http, hg+https, hg+ssh, hg+static-http, svn+ssh, svn+http, svn+https, svn+svn, svn+file).\n"
     ]
    }
   ],
   "source": [
    "pip install scikit-learn scipy numpy matplotlib -verbose"
   ]
  },
  {
   "cell_type": "code",
   "execution_count": 3,
   "metadata": {},
   "outputs": [
    {
     "name": "stdout",
     "output_type": "stream",
     "text": [
      "\n",
      "loaded minst data!\n",
      "test_data (10000, 1, 28, 28)\n",
      "training_data (60000, 1, 28, 28)\n",
      "training_labels (60000,)\n",
      "\n",
      "loaded spam data!\n",
      "test_data (1000, 32)\n",
      "training_data (4171, 32)\n",
      "training_labels (4171,)\n",
      "[1 1 1 ... 0 0 0]\n"
     ]
    }
   ],
   "source": [
    "import sys\n",
    "if sys.version_info[0] < 3:\n",
    "\traise Exception(\"Python 3 not detected.\")\n",
    "import numpy as np\n",
    "import matplotlib.pyplot as plt\n",
    "from sklearn import svm\n",
    "from scipy import io\n",
    "\n",
    "mnistData = np.load(f\"../data/mnist-data.npz\")\n",
    "print(\"\\nloaded %s data!\" % \"minst\")\n",
    "fields = \"test_data\", \"training_data\", \"training_labels\"\n",
    "for field in fields:\n",
    "    print(field, mnistData[field].shape)\n",
    "mnistTest = mnistData[\"test_data\"]\n",
    "mnistAllData = mnistData[\"training_data\"]\n",
    "mnistAllLabels = mnistData[\"training_labels\"]\n",
    "\n",
    "spamData = np.load(f\"../data/spam-data.npz\")\n",
    "print(\"\\nloaded %s data!\" % \"spam\")\n",
    "fields = \"test_data\", \"training_data\", \"training_labels\"\n",
    "for field in fields:\n",
    "    print(field, spamData[field].shape)\n",
    "spamTest = spamData[\"test_data\"]\n",
    "spamAllData = spamData[\"training_data\"]\n",
    "spamAllLabels = spamData[\"training_labels\"]\n",
    "\n",
    "print(spamAllLabels)"
   ]
  },
  {
   "cell_type": "code",
   "execution_count": 4,
   "metadata": {},
   "outputs": [
    {
     "name": "stdout",
     "output_type": "stream",
     "text": [
      "[1 0 3 2]\n",
      "[2 1 4 3] [3 4 1 2]\n"
     ]
    }
   ],
   "source": [
    "#Test out permutation function\n",
    "#Seeding rng\n",
    "rng = np.random.default_rng(seed=888)\n",
    "a = np.array([1,2,3,4])\n",
    "b = np.array([4,3,2,1])\n",
    "\n",
    "indexes = np.arange(len(a))\n",
    "rng.shuffle(indexes)\n",
    "print(indexes)\n",
    "\n",
    "a = a[indexes]\n",
    "b = b[indexes]\n",
    "\n",
    "print(a, b)"
   ]
  },
  {
   "cell_type": "code",
   "execution_count": 5,
   "metadata": {},
   "outputs": [],
   "source": [
    "rng = np.random.default_rng(seed=888)\n",
    "\n",
    "#Shuffle Datasets\n",
    "randIndex = rng.permutation(len(mnistAllLabels))\n",
    "\n",
    "# #Pre-shuffled value\n",
    "# print(\"\\n Pre-shuffled value \\n\")\n",
    "# print(mnistAllData[0])\n",
    "# print(mnistAllLabels[0])\n",
    "\n",
    "# print(\"\\n Pre-shuffled value on index\\n\")\n",
    "# print(mnistAllData[randIndex[0]])\n",
    "# print(mnistAllLabels[randIndex[0]])\n",
    "\n",
    "#ShuffleValues\n",
    "mnistAllLabels = mnistAllLabels[randIndex]\n",
    "mnistAllData = mnistAllData[randIndex]\n",
    "\n",
    "# #Post-shuffled values should still align\n",
    "# print(\"\\n Post-shuffled value \\n\")\n",
    "# print(mnistAllData[0])\n",
    "# print(mnistAllLabels[0])\n",
    "\n",
    "randIndex = rng.permutation(len(spamAllLabels))\n",
    "spamAllLabels = spamAllLabels[randIndex]\n",
    "spamAllData = spamAllData[randIndex]"
   ]
  },
  {
   "cell_type": "code",
   "execution_count": 6,
   "metadata": {},
   "outputs": [
    {
     "name": "stdout",
     "output_type": "stream",
     "text": [
      "834\n",
      "50000 10000\n",
      "50000 10000\n",
      "3337 834\n",
      "3337 834\n"
     ]
    }
   ],
   "source": [
    "#Partition Array\n",
    "mnistValLabels = mnistAllLabels[0:10000]\n",
    "mnistValData = mnistAllData[0:10000]\n",
    "\n",
    "mnistTrainLabels = mnistAllLabels[10000:]\n",
    "mnistTrainData = mnistAllData[10000:]\n",
    "\n",
    "spamSplit = round(len(spamAllData) * 0.2)\n",
    "print(spamSplit)\n",
    "spamValLabels = spamAllLabels[0:spamSplit]\n",
    "spamValData = spamAllData[0:spamSplit]\n",
    "\n",
    "spamTrainLabels = spamAllLabels[spamSplit:]\n",
    "spamTrainData = spamAllData[spamSplit:]\n",
    "\n",
    "print(len(mnistTrainData), len(mnistValData))\n",
    "print(len(mnistTrainLabels), len(mnistValLabels))\n",
    "\n",
    "print(len(spamTrainData), len(spamValData))\n",
    "print(len(spamTrainLabels), len(spamValLabels))"
   ]
  },
  {
   "cell_type": "code",
   "execution_count": 7,
   "metadata": {},
   "outputs": [],
   "source": [
    "#Classification Accuracy\n",
    "def classAccuracy(predictionList, truthList):\n",
    "    score = 0\n",
    "    for (pred, truth) in zip(predictionList, truthList):\n",
    "        if pred == truth:\n",
    "            score += 1\n",
    "    return score/len(predictionList)\n"
   ]
  },
  {
   "cell_type": "markdown",
   "metadata": {},
   "source": [
    "Start of Question 4"
   ]
  },
  {
   "cell_type": "code",
   "execution_count": 8,
   "metadata": {},
   "outputs": [
    {
     "name": "stdout",
     "output_type": "stream",
     "text": [
      "100-dp training data score: 1.0\n",
      "100-dp validation data score: 0.7306\n",
      "200-dp training data score: 1.0\n",
      "200-dp validation data score: 0.8156\n",
      "500-dp training data score: 1.0\n",
      "500-dp validation data score: 0.8521\n",
      "1000-dp training data score: 1.0\n",
      "1000-dp validation data score: 0.8841\n",
      "2000-dp training data score: 1.0\n",
      "2000-dp validation data score: 0.8949\n",
      "5000-dp training data score: 1.0\n",
      "5000-dp validation data score: 0.9103\n",
      "10000-dp training data score: 1.0\n",
      "10000-dp validation data score: 0.907\n"
     ]
    }
   ],
   "source": [
    "#Create Classifier\n",
    "minstClf = svm.SVC(kernel=\"linear\")\n",
    "\n",
    "#Flatten minst\n",
    "# print(\"Original Data\")\n",
    "# print(mnistTrainData.shape)\n",
    "# print(mnistTrainData[0])\n",
    "\n",
    "minstTrainFlat = np.reshape(mnistTrainData, (50000, 784))\n",
    "minstValFlat = np.reshape(mnistValData, (10000, 784))\n",
    "\n",
    "# print(\"Flattened Data\")\n",
    "# print(minstFlat.shape)\n",
    "# print(minstFlat[0])\n",
    "minstValScoreList = []\n",
    "minstTrainScoreList = []\n",
    "\n",
    "#Fit points\n",
    "minstTrainingPoints = [100, 200, 500, 1000, 2000, 5000, 10000]\n",
    "for numPoints in minstTrainingPoints:\n",
    "    minstClf.fit(minstTrainFlat[0:numPoints], mnistTrainLabels[0:numPoints])\n",
    "\n",
    "    predictedTraining = minstClf.predict(minstTrainFlat[0:numPoints])\n",
    "    predictedVal = minstClf.predict(minstValFlat)\n",
    "\n",
    "    print(f\"{numPoints}-dp training data score:\", classAccuracy(predictedTraining, mnistTrainLabels[0:numPoints]))\n",
    "    print(f\"{numPoints}-dp validation data score:\", classAccuracy(predictedVal, mnistValLabels))\n",
    "    minstTrainScoreList += [classAccuracy(predictedTraining, mnistTrainLabels[0:numPoints])]\n",
    "    minstValScoreList += [classAccuracy(predictedVal, mnistValLabels)]\n"
   ]
  },
  {
   "cell_type": "code",
   "execution_count": 9,
   "metadata": {},
   "outputs": [
    {
     "name": "stdout",
     "output_type": "stream",
     "text": [
      "Original Data\n",
      "(3337, 32)\n",
      "[0. 0. 0. 0. 0. 0. 0. 0. 0. 0. 0. 0. 0. 0. 0. 0. 0. 0. 0. 0. 0. 0. 0. 0.\n",
      " 0. 0. 2. 2. 0. 0. 0. 0.]\n",
      "100-dp training data score: 0.82\n",
      "100-dp validation data score: 0.7290167865707434\n",
      "200-dp training data score: 0.815\n",
      "200-dp validation data score: 0.7721822541966427\n",
      "500-dp training data score: 0.802\n",
      "500-dp validation data score: 0.7949640287769785\n",
      "1000-dp training data score: 0.795\n",
      "1000-dp validation data score: 0.7997601918465228\n",
      "2000-dp training data score: 0.815\n",
      "2000-dp validation data score: 0.8057553956834532\n",
      "3337-dp training data score: 0.8037159124962541\n",
      "3337-dp validation data score: 0.8165467625899281\n"
     ]
    }
   ],
   "source": [
    "#Create Classifier\n",
    "spamClf = svm.SVC(kernel=\"linear\")\n",
    "\n",
    "#Flatten spam\n",
    "print(\"Original Data\")\n",
    "print(spamTrainData.shape)\n",
    "print(spamTrainData[10])\n",
    "\n",
    "# minstTrainFlat = np.reshape(mnistTrainData, (50000, 784))\n",
    "# minstValFlat = np.reshape(mnistValData, (10000, 784))\n",
    "# print(\"Flattened Data\")\n",
    "# print(minstFlat.shape)\n",
    "# print(minstFlat[0])\n",
    "#print(spamValLabels)\n",
    "spamValScoreList = []\n",
    "spamTrainScoreList = []\n",
    "\n",
    "#Fit points\n",
    "spamTrainingPoints = [100, 200, 500, 1000, 2000, 3337]\n",
    "for numPoints in spamTrainingPoints:\n",
    "    spamClf.fit(spamTrainData[0:numPoints], spamTrainLabels[0:numPoints])\n",
    "\n",
    "    predictedTraining = spamClf.predict(spamTrainData[0:numPoints])\n",
    "    predictedVal = spamClf.predict(spamValData)\n",
    "\n",
    "    print(f\"{numPoints}-dp training data score:\", classAccuracy(predictedTraining, spamTrainLabels[0:numPoints]))\n",
    "    print(f\"{numPoints}-dp validation data score:\", classAccuracy(predictedVal, spamValLabels))\n",
    "\n",
    "    spamValScoreList += [classAccuracy(predictedTraining, spamTrainLabels[0:numPoints])]\n",
    "    spamTrainScoreList += [classAccuracy(predictedVal, spamValLabels)]"
   ]
  },
  {
   "cell_type": "code",
   "execution_count": 10,
   "metadata": {},
   "outputs": [
    {
     "name": "stdout",
     "output_type": "stream",
     "text": [
      "[1.0, 1.0, 1.0, 1.0, 1.0, 1.0, 1.0]\n"
     ]
    },
    {
     "data": {
      "image/png": "[encoded data removed]",
      "text/plain": [
       "<Figure size 640x480 with 1 Axes>"
      ]
     },
     "metadata": {},
     "output_type": "display_data"
    }
   ],
   "source": [
    "# print(minstScoreList)\n",
    "# print(spamScoreList)\n",
    "print(minstTrainScoreList)\n",
    "\n",
    "plt.plot(minstTrainingPoints, minstValScoreList, label = \"Validation Score\")\n",
    "plt.plot(minstTrainingPoints, minstTrainScoreList, label = \"Training Score\")\n",
    "plt.legend(loc='lower right')\n",
    "plt.xlabel(\"Number Of Training Points\")\n",
    "plt.ylabel(\"Percentage Accuracy\")\n",
    "plt.show()\n"
   ]
  },
  {
   "cell_type": "code",
   "execution_count": 11,
   "metadata": {},
   "outputs": [
    {
     "data": {
      "image/png": "[encoded data removed]",
      "text/plain": [
       "<Figure size 640x480 with 1 Axes>"
      ]
     },
     "metadata": {},
     "output_type": "display_data"
    }
   ],
   "source": [
    "plt.plot(spamTrainingPoints, spamValScoreList, label = \"Validation Score\")\n",
    "plt.plot(spamTrainingPoints, spamTrainScoreList, label = \"Training Score\")\n",
    "plt.legend(loc='lower right')\n",
    "plt.xlabel(\"Number Of Training Points\")\n",
    "plt.ylabel(\"Percentage Accuracy\")\n",
    "plt.show()\n"
   ]
  },
  {
   "cell_type": "markdown",
   "metadata": {},
   "source": [
    "Start of Question 5"
   ]
  },
  {
   "cell_type": "code",
   "execution_count": 49,
   "metadata": {},
   "outputs": [
    {
     "name": "stdout",
     "output_type": "stream",
     "text": [
      "1e-10-cVal training data score: 0.1123\n",
      "1e-10-cVal validation data score: 0.1109\n",
      "1e-08-cVal training data score: 0.8956\n",
      "1e-08-cVal validation data score: 0.895\n",
      "1e-06-cVal training data score: 0.9667\n",
      "1e-06-cVal validation data score: 0.9259\n",
      "0.0001-cVal training data score: 1.0\n",
      "0.0001-cVal validation data score: 0.907\n",
      "1-cVal training data score: 1.0\n",
      "1-cVal validation data score: 0.907\n",
      "100-cVal training data score: 1.0\n",
      "100-cVal validation data score: 0.907\n",
      "10000-cVal training data score: 1.0\n",
      "10000-cVal validation data score: 0.907\n",
      "[1.0, 1.0, 1.0, 1.0, 1.0, 1.0, 1.0]\n"
     ]
    },
    {
     "data": {
      "image/png": "[encoded data removed]",
      "text/plain": [
       "<Figure size 640x480 with 1 Axes>"
      ]
     },
     "metadata": {},
     "output_type": "display_data"
    }
   ],
   "source": [
    "minstTrainFlat = np.reshape(mnistTrainData, (50000, 784))\n",
    "minstValFlat = np.reshape(mnistValData, (10000, 784))\n",
    "\n",
    "# print(\"Flattened Data\")\n",
    "# print(minstFlat.shape)\n",
    "# print(minstFlat[0])\n",
    "minstOptValScoreList = []\n",
    "minstOptTrainScoreList = []\n",
    "\n",
    "#Fit points\n",
    "cVal = [1*(10**-10), 1*(10**-8), 1*(10**-6), 1*(10**-4), 1*(10**-2), 1, 1*(10**2), 1*(10**4)]\n",
    "trainingPoints = 10000\n",
    "for val in cVal:\n",
    "    minstClfOptimized = svm.SVC(kernel=\"linear\", C = val)\n",
    "    minstClfOptimized.fit(minstTrainFlat[0:trainingPoints], mnistTrainLabels[0:trainingPoints])\n",
    "\n",
    "    predictedTraining = minstClfOptimized.predict(minstTrainFlat[0:trainingPoints])\n",
    "    predictedVal = minstClfOptimized.predict(minstValFlat)\n",
    "\n",
    "    print(f\"{val}-cVal training data score:\", classAccuracy(predictedTraining, mnistTrainLabels[0:trainingPoints]))\n",
    "    print(f\"{val}-cVal validation data score:\", classAccuracy(predictedVal, mnistValLabels))\n",
    "    minstOptTrainScoreList += [classAccuracy(predictedTraining, mnistTrainLabels[0:trainingPoints])]\n",
    "    minstOptValScoreList += [classAccuracy(predictedVal, mnistValLabels)]\n",
    "\n",
    "print(minstTrainScoreList)\n",
    "\n",
    "plt.plot(cVal, minstOptValScoreList, label = \"Validation Score\")\n",
    "plt.plot(cVal, minstOptTrainScoreList, label = \"Training Score\")\n",
    "plt.legend(loc='lower right')\n",
    "plt.xlabel(\"Cval\")\n",
    "plt.ylabel(\"Percentage Accuracy\")\n",
    "plt.xscale(\"log\")\n",
    "plt.show()\n"
   ]
  },
  {
   "cell_type": "markdown",
   "metadata": {},
   "source": [
    "It seems 10^-6 is the best C value"
   ]
  },
  {
   "cell_type": "markdown",
   "metadata": {},
   "source": [
    "Start of Question 6"
   ]
  },
  {
   "cell_type": "code",
   "execution_count": 36,
   "metadata": {},
   "outputs": [
    {
     "name": "stdout",
     "output_type": "stream",
     "text": [
      "0.1-cVal training data score: 0.802158273381295\n",
      "0.1-cVal validation data score: 0.7889688249400479\n",
      "0.1-cVal training data score: 0.7889688249400479\n",
      "0.1-cVal validation data score: 0.8141486810551559\n",
      "0.1-cVal training data score: 0.7994604316546763\n",
      "0.1-cVal validation data score: 0.8009592326139089\n",
      "0.1-cVal training data score: 0.7949640287769785\n",
      "0.1-cVal validation data score: 0.7973621103117506\n",
      "0.1-cVal training data score: 0.8045563549160671\n",
      "0.1-cVal validation data score: 0.7661870503597122\n",
      "[0.79802158]\n",
      "[0.79352518]\n",
      "0.2-cVal training data score: 0.8069544364508393\n",
      "0.2-cVal validation data score: 0.7913669064748201\n",
      "0.2-cVal training data score: 0.7931654676258992\n",
      "0.2-cVal validation data score: 0.8189448441247003\n",
      "0.2-cVal training data score: 0.8039568345323741\n",
      "0.2-cVal validation data score: 0.802158273381295\n",
      "0.2-cVal training data score: 0.7997601918465228\n",
      "0.2-cVal validation data score: 0.8033573141486811\n",
      "0.2-cVal training data score: 0.8060551558752997\n",
      "0.2-cVal validation data score: 0.7685851318944844\n",
      "[0.79802158 0.80197842]\n",
      "[0.79352518 0.79688249]\n",
      "0.4-cVal training data score: 0.8072541966426858\n",
      "0.4-cVal validation data score: 0.7937649880095923\n",
      "0.4-cVal training data score: 0.7967625899280576\n",
      "0.4-cVal validation data score: 0.8249400479616307\n",
      "0.4-cVal training data score: 0.8051558752997602\n",
      "0.4-cVal validation data score: 0.802158273381295\n",
      "0.4-cVal training data score: 0.8009592326139089\n",
      "0.4-cVal validation data score: 0.8033573141486811\n",
      "0.4-cVal training data score: 0.8111510791366906\n",
      "0.4-cVal validation data score: 0.7745803357314148\n",
      "[0.79802158 0.80197842 0.80425659]\n",
      "[0.79352518 0.79688249 0.79976019]\n",
      "0.8-cVal training data score: 0.8081534772182254\n",
      "0.8-cVal validation data score: 0.7985611510791367\n",
      "0.8-cVal training data score: 0.7967625899280576\n",
      "0.8-cVal validation data score: 0.8261390887290168\n",
      "0.8-cVal training data score: 0.8072541966426858\n",
      "0.8-cVal validation data score: 0.8045563549160671\n",
      "0.8-cVal training data score: 0.8015587529976019\n",
      "0.8-cVal validation data score: 0.8045563549160671\n",
      "0.8-cVal training data score: 0.8117505995203836\n",
      "0.8-cVal validation data score: 0.7757793764988009\n",
      "[0.79802158 0.80197842 0.80425659 0.80509592]\n",
      "[0.79352518 0.79688249 0.79976019 0.80191847]\n",
      "1-cVal training data score: 0.8081534772182254\n",
      "1-cVal validation data score: 0.7973621103117506\n",
      "1-cVal training data score: 0.7964628297362111\n",
      "1-cVal validation data score: 0.8261390887290168\n",
      "1-cVal training data score: 0.809052757793765\n",
      "1-cVal validation data score: 0.8045563549160671\n",
      "1-cVal training data score: 0.802158273381295\n",
      "1-cVal validation data score: 0.8069544364508393\n",
      "1-cVal training data score: 0.8117505995203836\n",
      "1-cVal validation data score: 0.7757793764988009\n",
      "[0.79802158 0.80197842 0.80425659 0.80509592 0.80551559]\n",
      "[0.79352518 0.79688249 0.79976019 0.80191847 0.80215827]\n",
      "5-cVal training data score: 0.809652278177458\n",
      "5-cVal validation data score: 0.8033573141486811\n",
      "5-cVal training data score: 0.7967625899280576\n",
      "5-cVal validation data score: 0.8285371702637889\n",
      "5-cVal training data score: 0.8111510791366906\n",
      "5-cVal validation data score: 0.8033573141486811\n",
      "5-cVal training data score: 0.8018585131894485\n",
      "5-cVal validation data score: 0.8069544364508393\n",
      "5-cVal training data score: 0.814748201438849\n",
      "5-cVal validation data score: 0.7757793764988009\n",
      "[0.79802158 0.80197842 0.80425659 0.80509592 0.80551559 0.80683453]\n",
      "[0.79352518 0.79688249 0.79976019 0.80191847 0.80215827 0.80359712]\n",
      "25-cVal training data score: 0.8099520383693045\n",
      "25-cVal validation data score: 0.8057553956834532\n",
      "25-cVal training data score: 0.7967625899280576\n",
      "25-cVal validation data score: 0.8285371702637889\n",
      "25-cVal training data score: 0.8114508393285371\n",
      "25-cVal validation data score: 0.8033573141486811\n",
      "25-cVal training data score: 0.8015587529976019\n",
      "25-cVal validation data score: 0.8069544364508393\n",
      "25-cVal training data score: 0.815347721822542\n",
      "25-cVal validation data score: 0.7745803357314148\n",
      "[0.79802158 0.80197842 0.80425659 0.80509592 0.80551559 0.80683453\n",
      " 0.80701439]\n",
      "[0.79352518 0.79688249 0.79976019 0.80191847 0.80215827 0.80359712\n",
      " 0.80383693]\n",
      "125-cVal training data score: 0.8099520383693045\n",
      "125-cVal validation data score: 0.802158273381295\n",
      "125-cVal training data score: 0.7973621103117506\n",
      "125-cVal validation data score: 0.8285371702637889\n",
      "125-cVal training data score: 0.8114508393285371\n",
      "125-cVal validation data score: 0.8033573141486811\n",
      "125-cVal training data score: 0.8015587529976019\n",
      "125-cVal validation data score: 0.8057553956834532\n",
      "125-cVal training data score: 0.815347721822542\n",
      "125-cVal validation data score: 0.7757793764988009\n",
      "[0.79802158 0.80197842 0.80425659 0.80509592 0.80551559 0.80683453\n",
      " 0.80701439 0.80713429]\n",
      "[0.79352518 0.79688249 0.79976019 0.80191847 0.80215827 0.80359712\n",
      " 0.80383693 0.80311751]\n"
     ]
    }
   ],
   "source": [
    "randIndex = rng.permutation(len(spamAllLabels))\n",
    "spamAllLabels = spamAllLabels[randIndex]\n",
    "spamAllData = spamAllData[randIndex]\n",
    "\n",
    "#Round to nearest 5\n",
    "lcm = (len(spamAllLabels) // 5) * 5\n",
    "spamAllLabelsRounded = spamAllLabels[:lcm]\n",
    "spamAllDataRounded = spamAllData[:lcm]\n",
    "\n",
    "#Partition into 5 equal parts\n",
    "splitLabelArray = np.split(spamAllLabelsRounded, 5)\n",
    "splitDataArray = np.split(spamAllDataRounded, 5)\n",
    "\n",
    "#Calculate 5-Fold Cross Validation\n",
    "valDataFiveFold = []\n",
    "valLabelFiveFold = []\n",
    "trainDataFiveFold = []\n",
    "trainLabelFiveFold = []\n",
    "\n",
    "for index in range(0,5):\n",
    "    valDataFiveFold.append(splitDataArray[index])\n",
    "    valLabelFiveFold.append(splitLabelArray[index])\n",
    "\n",
    "    trainDataSet = np.concatenate(np.delete(splitDataArray, index, 0), axis=0)\n",
    "    trainLabelSet = np.concatenate(np.delete(splitLabelArray, index, 0), axis=0)\n",
    "\n",
    "    \n",
    "    trainDataFiveFold.append(trainDataSet)\n",
    "    trainLabelFiveFold.append(trainLabelSet)\n",
    "\n",
    "# print(np.shape(valDataFiveFold))\n",
    "# print(np.shape(valLabelFiveFold))\n",
    "# print(np.shape(trainDataFiveFold))\n",
    "# print(np.shape(trainLabelFiveFold))\n",
    "\n",
    "spamAverageTrainScoreList = []\n",
    "spamAverageValScoreList = []\n",
    "\n",
    "cVal = [0.1, 0.2, 0.4, 0.8, 1, 5, 25, 125]\n",
    "trainingPoints = 100\n",
    "for val in cVal:\n",
    "    spamClfOptimized = svm.SVC(kernel=\"linear\", C = val)\n",
    "    trainAccuracyList = np.array([])\n",
    "    valAccuracyList = np.array([])\n",
    "    for index in range(0,5):\n",
    "        spamClfOptimized.fit(trainDataFiveFold[index], trainLabelFiveFold[index])\n",
    "\n",
    "        predictedTraining = spamClfOptimized.predict(trainDataFiveFold[index])\n",
    "        predictedVal = spamClfOptimized.predict(valDataFiveFold[index])\n",
    "\n",
    "        trainingScore = classAccuracy(predictedTraining, trainLabelFiveFold[index])\n",
    "        validationScore = classAccuracy(predictedVal, valLabelFiveFold[index])\n",
    "\n",
    "        print(f\"{val}-cVal training data score:\", trainingScore)\n",
    "        print(f\"{val}-cVal validation data score:\", validationScore)\n",
    "\n",
    "        trainAccuracyList = np.append(trainAccuracyList, trainingScore)\n",
    "        valAccuracyList = np.append(valAccuracyList, validationScore)\n",
    "        \n",
    "    spamAverageTrainScoreList = np.append(spamAverageTrainScoreList, np.average(trainAccuracyList))\n",
    "    spamAverageValScoreList = np.append(spamAverageValScoreList, np.average(valAccuracyList))\n",
    "    print(spamAverageTrainScoreList)\n",
    "    print(spamAverageValScoreList)"
   ]
  },
  {
   "cell_type": "code",
   "execution_count": 40,
   "metadata": {},
   "outputs": [
    {
     "data": {
      "image/png": "[encoded data removed]",
      "text/plain": [
       "<Figure size 640x480 with 1 Axes>"
      ]
     },
     "metadata": {},
     "output_type": "display_data"
    }
   ],
   "source": [
    "plt.plot(cVal, spamAverageValScoreList, label = \"Validation Score\")\n",
    "plt.plot(cVal, spamAverageTrainScoreList, label = \"Training Score\")\n",
    "plt.legend(loc='lower right')\n",
    "plt.xlabel(\"Cval\")\n",
    "plt.ylabel(\"Percentage Accuracy\")\n",
    "plt.xscale(\"log\")\n",
    "plt.show()"
   ]
  },
  {
   "cell_type": "markdown",
   "metadata": {},
   "source": [
    "It seems to be that C=25 has the best score."
   ]
  },
  {
   "cell_type": "markdown",
   "metadata": {},
   "source": [
    "Start of Question 7"
   ]
  },
  {
   "cell_type": "code",
   "execution_count": 71,
   "metadata": {},
   "outputs": [
    {
     "name": "stdout",
     "output_type": "stream",
     "text": [
      "validation data score: 0.983\n",
      "(10000, 1, 28, 28)\n"
     ]
    }
   ],
   "source": [
    "#minst test\n",
    "minstFinal= svm.SVC(kernel=\"rbf\", C = 5, gamma=\"scale\")\n",
    "minstFinal.fit(minstTrainFlat, mnistTrainLabels)\n",
    "\n",
    "predictedVal = minstFinal.predict(minstValFlat)\n",
    "print(\"validation data score:\", classAccuracy(predictedVal, mnistValLabels))"
   ]
  },
  {
   "cell_type": "code",
   "execution_count": 72,
   "metadata": {},
   "outputs": [
    {
     "name": "stdout",
     "output_type": "stream",
     "text": [
      "(10000, 1, 28, 28)\n"
     ]
    }
   ],
   "source": [
    "print(np.shape(mnistTest))\n",
    "minstTestFlat = np.reshape(mnistTest, (10000, 784))\n",
    "predictedMinstTest = minstFinal.predict(minstTestFlat)"
   ]
  },
  {
   "cell_type": "code",
   "execution_count": 95,
   "metadata": {},
   "outputs": [],
   "source": [
    "import pandas as pd\n",
    "list = [*range(1, len(minstTestFlat)+1)]\n",
    "outputDict = {\"Id\":list, \"Category\": predictedMinstTest}\n",
    "\n",
    "df = pd.DataFrame(outputDict)\n",
    "df.to_csv('minstResult.csv', index=False)"
   ]
  },
  {
   "cell_type": "code",
   "execution_count": 81,
   "metadata": {},
   "outputs": [
    {
     "name": "stdout",
     "output_type": "stream",
     "text": [
      "validation data score: 0.815347721822542\n"
     ]
    }
   ],
   "source": [
    "spamFinal = svm.SVC(kernel=\"linear\", C = 25, gamma=\"scale\")\n",
    "spamFinal.fit(spamTrainData, spamTrainLabels)\n",
    "\n",
    "predictedVal = spamFinal.predict(spamValData)\n",
    "print(\"validation data score:\", classAccuracy(predictedVal, spamValLabels))\n",
    "\n",
    "predictedSpamTest = spamFinal.predict(spamTest)"
   ]
  },
  {
   "cell_type": "code",
   "execution_count": 96,
   "metadata": {},
   "outputs": [],
   "source": [
    "import pandas as pd\n",
    "list = [*range(1, len(spamTest)+1)]\n",
    "outputDict = {\"Id\":list, \"Category\": predictedSpamTest}\n",
    "df = pd.DataFrame(outputDict)\n",
    "df.to_csv('spamResult.csv', index=False)"
   ]
  },
  {
   "cell_type": "code",
   "execution_count": null,
   "metadata": {},
   "outputs": [],
   "source": []
  }
 ],
 "metadata": {
  "kernelspec": {
   "display_name": "base",
   "language": "python",
   "name": "python3"
  },
  "language_info": {
   "codemirror_mode": {
    "name": "ipython",
    "version": 3
   },
   "file_extension": ".py",
   "mimetype": "text/x-python",
   "name": "python",
   "nbconvert_exporter": "python",
   "pygments_lexer": "ipython3",
   "version": "3.11.5"
  }
 },
 "nbformat": 4,
 "nbformat_minor": 4
}
