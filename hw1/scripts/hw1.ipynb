{
 "cells": [
  {
   "cell_type": "code",
   "execution_count": 4,
   "metadata": {},
   "outputs": [
    {
     "name": "stdout",
     "output_type": "stream",
     "text": [
      "Requirement already satisfied: pip in f:\\anaconda\\lib\\site-packages (23.3.2)\n",
      "Note: you may need to restart the kernel to use updated packages.\n"
     ]
    }
   ],
   "source": [
    "pip install --upgrade pip"
   ]
  },
  {
   "cell_type": "code",
   "execution_count": 5,
   "metadata": {},
   "outputs": [
    {
     "name": "stdout",
     "output_type": "stream",
     "text": [
      "Using pip 23.3.2 from f:\\Anaconda\\Lib\\site-packages\\pip (python 3.11)\n"
     ]
    },
    {
     "name": "stderr",
     "output_type": "stream",
     "text": [
      "ERROR: rbose is not a valid editable requirement. It should either be a path to a local project or a VCS URL (beginning with bzr+http, bzr+https, bzr+ssh, bzr+sftp, bzr+ftp, bzr+lp, bzr+file, git+http, git+https, git+ssh, git+git, git+file, hg+file, hg+http, hg+https, hg+ssh, hg+static-http, svn+ssh, svn+http, svn+https, svn+svn, svn+file).\n"
     ]
    },
    {
     "name": "stdout",
     "output_type": "stream",
     "text": [
      "Note: you may need to restart the kernel to use updated packages.\n"
     ]
    }
   ],
   "source": [
    "pip install scikit-learn scipy numpy matplotlib -verbose"
   ]
  },
  {
   "cell_type": "code",
   "execution_count": 31,
   "metadata": {},
   "outputs": [
    {
     "name": "stdout",
     "output_type": "stream",
     "text": [
      "\n",
      "loaded minst data!\n",
      "test_data (10000, 1, 28, 28)\n",
      "training_data (60000, 1, 28, 28)\n",
      "training_labels (60000,)\n",
      "\n",
      "loaded spam data!\n",
      "test_data (1000, 32)\n",
      "training_data (4171, 32)\n",
      "training_labels (4171,)\n"
     ]
    }
   ],
   "source": [
    "import sys\n",
    "if sys.version_info[0] < 3:\n",
    "\traise Exception(\"Python 3 not detected.\")\n",
    "import numpy as np\n",
    "import matplotlib.pyplot as plt\n",
    "from sklearn import svm\n",
    "from scipy import io\n",
    "\n",
    "mnistData = np.load(f\"../data/mnist-data.npz\")\n",
    "print(\"\\nloaded %s data!\" % \"minst\")\n",
    "fields = \"test_data\", \"training_data\", \"training_labels\"\n",
    "for field in fields:\n",
    "    print(field, mnistData[field].shape)\n",
    "mnistTest = mnistData[\"test_data\"]\n",
    "mnistAllData = mnistData[\"training_data\"]\n",
    "mnistAllLabels = mnistData[\"training_labels\"]\n",
    "\n",
    "\n",
    "spamData = np.load(f\"../data/spam-data.npz\")\n",
    "print(\"\\nloaded %s data!\" % \"spam\")\n",
    "fields = \"test_data\", \"training_data\", \"training_labels\"\n",
    "for field in fields:\n",
    "    print(field, spamData[field].shape)\n",
    "spamTest = spamData[\"test_data\"]\n",
    "spamAllData = spamData[\"training_data\"]\n",
    "spamAllLabels = spamData[\"training_labels\"]"
   ]
  },
  {
   "cell_type": "code",
   "execution_count": 32,
   "metadata": {},
   "outputs": [
    {
     "name": "stdout",
     "output_type": "stream",
     "text": [
      "5\n"
     ]
    }
   ],
   "source": [
    "print(mnistAllLabels[5])"
   ]
  },
  {
   "cell_type": "code",
   "execution_count": 33,
   "metadata": {},
   "outputs": [
    {
     "name": "stdout",
     "output_type": "stream",
     "text": [
      "[1 0 3 2]\n",
      "[2 1 4 3] [3 4 1 2]\n"
     ]
    }
   ],
   "source": [
    "#Test out permutation function\n",
    "#Seeding rng\n",
    "rng = np.random.default_rng(seed=888)\n",
    "a = np.array([1,2,3,4])\n",
    "b = np.array([4,3,2,1])\n",
    "\n",
    "indexes = np.arange(len(a))\n",
    "rng.shuffle(indexes)\n",
    "print(indexes)\n",
    "\n",
    "a = a[indexes]\n",
    "b = b[indexes]\n",
    "\n",
    "print(a, b)"
   ]
  },
  {
   "cell_type": "code",
   "execution_count": 34,
   "metadata": {},
   "outputs": [],
   "source": [
    "rng = np.random.default_rng(seed=888)\n",
    "\n",
    "#Shuffle Datasets\n",
    "randIndex = rng.permutation(len(mnistAllLabels))\n",
    "\n",
    "# #Pre-shuffled value\n",
    "# print(\"\\n Pre-shuffled value \\n\")\n",
    "# print(mnistAllData[0])\n",
    "# print(mnistAllLabels[0])\n",
    "\n",
    "# print(\"\\n Pre-shuffled value on index\\n\")\n",
    "# print(mnistAllData[randIndex[0]])\n",
    "# print(mnistAllLabels[randIndex[0]])\n",
    "\n",
    "#ShuffleValues\n",
    "mnistAllLabels = mnistAllLabels[randIndex]\n",
    "mnistAllData = mnistAllData[randIndex]\n",
    "\n",
    "# #Post-shuffled values should still align\n",
    "# print(\"\\n Post-shuffled value \\n\")\n",
    "# print(mnistAllData[0])\n",
    "# print(mnistAllLabels[0])\n",
    "\n",
    "randIndex = rng.permutation(len(spamAllLabels))\n",
    "spamAllLabels = spamAllLabels[randIndex]\n",
    "spamAllData = spamAllData[randIndex]"
   ]
  },
  {
   "cell_type": "code",
   "execution_count": 38,
   "metadata": {},
   "outputs": [
    {
     "name": "stdout",
     "output_type": "stream",
     "text": [
      "834\n",
      "60000\n",
      "60000\n",
      "4171\n",
      "4171\n"
     ]
    }
   ],
   "source": [
    "#Partition Array\n",
    "mnistValLabels = mnistAllLabels[0:10000]\n",
    "mnistValData = mnistAllData[0:10000]\n",
    "\n",
    "mnistTrainLabels = mnistAllLabels[10000:]\n",
    "mnistTrainData = mnistAllData[10000:]\n",
    "\n",
    "spamSplit = round(len(spamAllData) * 0.2)\n",
    "spamValLabels = spamAllLabels[0:spamSplit]\n",
    "spamValData = spamAllData[0:spamSplit]\n",
    "\n",
    "spamTrainLabels = spamAllLabels[spamSplit:]\n",
    "spamTrainData = spamAllData[spamSplit:]\n",
    "\n",
    "# print(len(mnistTrainData) + len(mnistValData))\n",
    "# print(len(mnistTrainLabels) + len(mnistValLabels))\n",
    "\n",
    "# print(len(spamTrainData) + len(spamValData))\n",
    "# print(len(spamTrainLabels) + len(spamValLabels))"
   ]
  },
  {
   "cell_type": "code",
   "execution_count": 40,
   "metadata": {},
   "outputs": [
    {
     "data": {
      "text/plain": [
       "0.8"
      ]
     },
     "execution_count": 40,
     "metadata": {},
     "output_type": "execute_result"
    }
   ],
   "source": [
    "#Classification Accuracy\n",
    "def classAccuracy(predictionList, truthList):\n",
    "    score = 0\n",
    "    for (pred, truth) in zip(predictionList, truthList):\n",
    "        if pred == truth:\n",
    "            score += 1\n",
    "    return score/len(predictionList)\n"
   ]
  },
  {
   "cell_type": "code",
   "execution_count": null,
   "metadata": {},
   "outputs": [],
   "source": []
  }
 ],
 "metadata": {
  "kernelspec": {
   "display_name": "base",
   "language": "python",
   "name": "python3"
  },
  "language_info": {
   "codemirror_mode": {
    "name": "ipython",
    "version": 3
   },
   "file_extension": ".py",
   "mimetype": "text/x-python",
   "name": "python",
   "nbconvert_exporter": "python",
   "pygments_lexer": "ipython3",
   "version": "3.11.5"
  }
 },
 "nbformat": 4,
 "nbformat_minor": 4
}
