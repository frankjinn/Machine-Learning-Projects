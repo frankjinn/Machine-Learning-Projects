{
 "cells": [
  {
   "cell_type": "code",
   "execution_count": 2,
   "metadata": {},
   "outputs": [],
   "source": [
    "import numpy as np"
   ]
  },
  {
   "cell_type": "code",
   "execution_count": 10,
   "metadata": {},
   "outputs": [],
   "source": [
    "x = np.array([[0.2, 3.1, 1], [1.0, 3.0, 1], [-0.2, 1.2, 1], [1.0, 1.1, 1]])\n",
    "w0 = np.array([[-1, 1, 0]]).T\n",
    "y = np.array([[1, 1, 0, 0]]).T"
   ]
  },
  {
   "cell_type": "code",
   "execution_count": 28,
   "metadata": {},
   "outputs": [
    {
     "name": "stdout",
     "output_type": "stream",
     "text": [
      "[[0.94784644]\n",
      " [0.88079708]\n",
      " [0.80218389]\n",
      " [0.52497919]]\n"
     ]
    }
   ],
   "source": [
    "def logFn(x, w):\n",
    "    gamma = x.dot(w)\n",
    "    gamma = np.exp(-gamma)\n",
    "    result = np.empty(gamma.shape)\n",
    "    for i in range(4):\n",
    "        result[i][0] = 1/(1 + gamma[i][0])\n",
    "    return result\n",
    "s0 = logFn(x, w0)\n",
    "print(s0)"
   ]
  },
  {
   "cell_type": "code",
   "execution_count": 29,
   "metadata": {},
   "outputs": [
    {
     "name": "stdout",
     "output_type": "stream",
     "text": [
      "[[0.04943357]\n",
      " [0.10499359]\n",
      " [0.1586849 ]\n",
      " [0.24937604]]\n",
      "[[0.04943357 0.         0.         0.        ]\n",
      " [0.         0.10499359 0.         0.        ]\n",
      " [0.         0.         0.1586849  0.        ]\n",
      " [0.         0.         0.         0.24937604]]\n"
     ]
    }
   ],
   "source": [
    "print(s0*(1-s0))\n",
    "diagonal = np.diagflat(s0*(1-s0))\n",
    "print(diagonal)"
   ]
  },
  {
   "cell_type": "code",
   "execution_count": 30,
   "metadata": {},
   "outputs": [
    {
     "name": "stdout",
     "output_type": "stream",
     "text": [
      "[[-0.23490878]\n",
      " [-1.02081296]\n",
      " [-1.15580659]]\n",
      "[[ 6.10355726 -0.45959808 -2.84586321]\n",
      " [-0.45959808  2.51714973 -3.90332816]\n",
      " [-2.84586321 -3.90332816  9.9343525 ]]\n",
      "[[ 1.32465198]\n",
      " [ 3.04991697]\n",
      " [-6.82910388]]\n"
     ]
    }
   ],
   "source": [
    "gradCost0 = np.dot(x.T, (y-s0))\n",
    "print(gradCost0)\n",
    "hessian0 = x.T.dot(diagonal).dot(x)\n",
    "print(np.linalg.inv(hessian0))\n",
    "w1 = w0 + np.linalg.inv(hessian0).dot(gradCost0)\n",
    "print(w1)"
   ]
  },
  {
   "cell_type": "code",
   "execution_count": 31,
   "metadata": {},
   "outputs": [
    {
     "name": "stdout",
     "output_type": "stream",
     "text": [
      "[[0.94737826]\n",
      " [0.97455097]\n",
      " [0.03124556]\n",
      " [0.10437391]]\n"
     ]
    }
   ],
   "source": [
    "s1 = logFn(x, w1)\n",
    "print(s1)\n",
    "diagonal = np.diagflat(s1*(1-s1))"
   ]
  },
  {
   "cell_type": "code",
   "execution_count": 26,
   "metadata": {},
   "outputs": [
    {
     "name": "stdout",
     "output_type": "stream",
     "text": [
      "[[ 1.36602464]\n",
      " [ 4.15753654]\n",
      " [-9.19961627]]\n"
     ]
    }
   ],
   "source": [
    "gradCost1 = np.dot(x.T, (y-s1))\n",
    "hessian1 = x.T.dot(diagonal).dot(x)\n",
    "w2 = w1 + np.linalg.inv(hessian1).dot(gradCost1)\n",
    "print(w2)"
   ]
  },
  {
   "cell_type": "code",
   "execution_count": null,
   "metadata": {},
   "outputs": [],
   "source": []
  }
 ],
 "metadata": {
  "kernelspec": {
   "display_name": "Python 3",
   "language": "python",
   "name": "python3"
  },
  "language_info": {
   "codemirror_mode": {
    "name": "ipython",
    "version": 3
   },
   "file_extension": ".py",
   "mimetype": "text/x-python",
   "name": "python",
   "nbconvert_exporter": "python",
   "pygments_lexer": "ipython3",
   "version": "3.11.5"
  }
 },
 "nbformat": 4,
 "nbformat_minor": 2
}
