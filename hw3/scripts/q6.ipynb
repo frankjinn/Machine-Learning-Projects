{
 "cells": [
  {
   "cell_type": "markdown",
   "metadata": {},
   "source": [
    "# Question 6"
   ]
  },
  {
   "cell_type": "code",
   "execution_count": 8,
   "metadata": {},
   "outputs": [],
   "source": [
    "#Imports\n",
    "import matplotlib.pyplot as plt\n",
    "import matplotlib.ticker as tick\n",
    "import numpy as np\n",
    "import scipy.stats as stats\n",
    "import statistics"
   ]
  },
  {
   "cell_type": "code",
   "execution_count": 9,
   "metadata": {},
   "outputs": [],
   "source": [
    "np.random.seed(0)"
   ]
  },
  {
   "cell_type": "code",
   "execution_count": 10,
   "metadata": {},
   "outputs": [],
   "source": [
    "def normalDistGen(mean, covar, axisRange, fineness):\n",
    "    normal = stats.multivariate_normal(mean, covar)\n",
    "    xUpperWindow = axisRange[0] + axisRange[2]\n",
    "    yUpperWindow = axisRange[1] + axisRange[2]\n",
    "    x = np.linspace(axisRange[0], xUpperWindow, fineness)\n",
    "    y = np.linspace(axisRange[1], yUpperWindow, fineness)\n",
    "    X, Y = np.meshgrid(x,y)\n",
    "    pos = np.empty(X.shape + (2,))\n",
    "    pos[:, :, 0] = X; pos[:, :, 1] = Y\n",
    "\n",
    "    return (normal, X, Y, pos)"
   ]
  },
  {
   "cell_type": "code",
   "execution_count": 12,
   "metadata": {},
   "outputs": [
    {
     "name": "stdout",
     "output_type": "stream",
     "text": [
      "(500, 500, 2)\n"
     ]
    }
   ],
   "source": [
    "#Question 1\n",
    "mean = np.array([1, 1])\n",
    "covar = np.array([[1, 0], [0, 2]])\n",
    "normal, X, Y, pos = normalDistGen(mean, covar, [-2, -2, 6], 500)\n",
    "\n",
    "print(pos.shape)\n",
    "#Plot Surface\n",
    "# fig, ax = plt.subplots(subplot_kw={\"projection\": \"3d\"})\n",
    "# surf = ax.plot_surface(X, Y, normal.pdf(pos), cmap='viridis',\n",
    "#                        linewidth=0, antialiased=False)\n",
    "# fig.colorbar(surf)\n",
    "\n",
    "#Plot Contour\n",
    "fig, ax = plt.subplots(1,1)\n",
    "contour = ax.contourf(X, Y, normal.pdf(pos), levels = 10, cmap = 'viridis')\n",
    "fig.colorbar(contour)\n",
    "\n",
    "plt.title(\"Q1 Plot\")\n",
    "plt.xlabel(\"x\")\n",
    "plt.ylabel(\"y\")\n",
    "plt.show()"
   ]
  },
  {
   "cell_type": "code",
   "execution_count": 134,
   "metadata": {},
   "outputs": [],
   "source": [
    "#Question 2\n",
    "mean = np.array([-1, 2])\n",
    "covar = np.array([[2, 1], [1, 4]])\n",
    "normal, X, Y, pos = normalDistGen(mean, covar, [-6, -3, 10], 500)\n",
    "\n",
    "#Plot\n",
    "# fig, ax = plt.subplots(1,1) #plt.subplots(subplot_kw={\"projection\": \"3d\"})\n",
    "# surf = ax.plot_surface(X, Y, normal.pdf(pos), cmap='viridis',\n",
    "#                        linewidth=0, antialiased=False)\n",
    "# fig.colorbar(surf)\n",
    "\n",
    "#Plot Contour\n",
    "fig, ax = plt.subplots(1,1)\n",
    "contour = ax.contourf(X, Y, normal.pdf(pos), levels = 10, cmap = 'viridis')\n",
    "fig.colorbar(contour)\n",
    "\n",
    "plt.title(\"Q2 Plot\")\n",
    "plt.xlabel(\"x\")\n",
    "plt.ylabel(\"y\")\n",
    "plt.show()"
   ]
  },
  {
   "cell_type": "code",
   "execution_count": 135,
   "metadata": {},
   "outputs": [],
   "source": [
    "#Question 3\n",
    "meanOne = np.array([0, 2])\n",
    "meanTwo = np.array([2, 0])\n",
    "covar = np.array([[2, 1], [1, 1]])\n",
    "normalOne, X, Y, pos = normalDistGen(meanOne, covar, [-4, -4, 10], 500)\n",
    "normalTwo, X, Y, pos = normalDistGen(meanTwo, covar, [-4, -4, 10], 500)\n",
    "\n",
    "#Plot\n",
    "# fig, ax = plt.subplots(subplot_kw={\"projection\": \"3d\"})\n",
    "# surf = ax.plot_surface(X, Y, normalOne.pdf(pos) - normalTwo.pdf(pos), cmap='viridis',\n",
    "#                        linewidth=0, antialiased=False)\n",
    "# fig.colorbar(surf)\n",
    "\n",
    "#Plot Contour\n",
    "fig, ax = plt.subplots(1,1)\n",
    "contour = ax.contourf(X, Y, normalOne.pdf(pos) - normalTwo.pdf(pos), levels = 10, cmap = 'viridis')\n",
    "fig.colorbar(contour)\n",
    "\n",
    "plt.title(\"Q3 Plot\")\n",
    "plt.xlabel(\"x\")\n",
    "plt.ylabel(\"y\")\n",
    "plt.show()"
   ]
  },
  {
   "cell_type": "code",
   "execution_count": 136,
   "metadata": {},
   "outputs": [],
   "source": [
    "#Question 4\n",
    "meanOne = np.array([0, 2])\n",
    "meanTwo = np.array([2, 0])\n",
    "covarOne = np.array([[2, 1], [1, 1]])\n",
    "covarTwo = np.array([[2, 1], [1, 4]])\n",
    "normalOne, X, Y, pos = normalDistGen(meanOne, covarOne, [-4, -4, 10], 500)\n",
    "normalTwo, X, Y, pos = normalDistGen(meanTwo, covarTwo, [-4, -4, 10], 500)\n",
    "\n",
    "#Plot\n",
    "# fig, ax = plt.subplots(subplot_kw={\"projection\": \"3d\"})\n",
    "# surf = ax.plot_surface(X, Y, normalOne.pdf(pos) - normalTwo.pdf(pos), cmap='viridis',\n",
    "#                        linewidth=0, antialiased=False)\n",
    "# fig.colorbar(surf)\n",
    "\n",
    "#Plot Contour\n",
    "fig, ax = plt.subplots(1,1)\n",
    "locator = tick.MaxNLocator(prune='both',nbins=5)\n",
    "contour = ax.contourf(X, Y, normalOne.pdf(pos) - normalTwo.pdf(pos), levels = 10)\n",
    "fig.colorbar(contour)\n",
    "\n",
    "plt.title(\"Q4 Plot\")\n",
    "plt.xlabel(\"x\")\n",
    "plt.ylabel(\"y\")\n",
    "plt.show()"
   ]
  },
  {
   "cell_type": "code",
   "execution_count": 15,
   "metadata": {},
   "outputs": [],
   "source": [
    "#Question 5\n",
    "meanOne = np.array([1, 1])\n",
    "meanTwo = np.array([-1, -1])\n",
    "covarOne = np.array([[2, 0], [0, 1]])\n",
    "covarTwo = np.array([[2, 1], [1, 2]])\n",
    "normalOne, X, Y, pos = normalDistGen(meanOne, covarOne, [-7, -7, 12], 500)\n",
    "normalTwo, X, Y, pos = normalDistGen(meanTwo, covarTwo, [-7, -7, 12], 500)\n",
    "\n",
    "#Plot\n",
    "# fig, ax = plt.subplots(subplot_kw={\"projection\": \"3d\"})\n",
    "# surf = ax.plot_surface(X, Y, normalOne.pdf(pos) - normalTwo.pdf(pos), cmap='viridis',\n",
    "#                        linewidth=0, antialiased=False)\n",
    "# fig.colorbar(surf)\n",
    "\n",
    "#Plot Contour\n",
    "fig, ax = plt.subplots(1,1)\n",
    "locator = tick.MaxNLocator(prune='both',nbins=5)\n",
    "contour = ax.contourf(X, Y, normalOne.pdf(pos) - normalTwo.pdf(pos), levels = 10)\n",
    "fig.colorbar(contour)\n",
    "\n",
    "plt.title(\"Q5 Plot\")\n",
    "plt.xlabel(\"x\")\n",
    "plt.ylabel(\"y\")\n",
    "plt.show()"
   ]
  },
  {
   "cell_type": "code",
   "execution_count": null,
   "metadata": {},
   "outputs": [],
   "source": []
  }
 ],
 "metadata": {
  "kernelspec": {
   "display_name": "Python 3.11 (XPython Raw)",
   "language": "python",
   "name": "xpython-raw"
  },
  "language_info": {
   "file_extension": ".py",
   "mimetype": "text/x-python",
   "name": "python",
   "version": "3.11.5"
  }
 },
 "nbformat": 4,
 "nbformat_minor": 2
}
