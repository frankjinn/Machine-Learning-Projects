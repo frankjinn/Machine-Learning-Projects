{
 "cells": [
  {
   "cell_type": "markdown",
   "metadata": {},
   "source": [
    "# Section 7"
   ]
  },
  {
   "cell_type": "code",
   "execution_count": 109,
   "metadata": {},
   "outputs": [],
   "source": [
    "import matplotlib.pyplot as plt\n",
    "import matplotlib.ticker as tick\n",
    "import numpy as np\n",
    "import scipy.stats as stats"
   ]
  },
  {
   "cell_type": "code",
   "execution_count": 116,
   "metadata": {},
   "outputs": [],
   "source": [
    "N = 100\n",
    "seed = 0\n",
    "rng = np.random.Generator(np.random.PCG64(seed))\n",
    "#Generating samples\n",
    "xOne = rng.normal(3, 3, N)\n",
    "xTwoBias = rng.normal(4, 2, N)\n",
    "xTwo = 0.5*xOne + xTwoBias"
   ]
  },
  {
   "cell_type": "markdown",
   "metadata": {},
   "source": [
    "## Question 1"
   ]
  },
  {
   "cell_type": "code",
   "execution_count": 117,
   "metadata": {},
   "outputs": [
    {
     "name": "stdout",
     "output_type": "stream",
     "text": [
      "Shape of samples:  (100, 2)\n",
      "Mean of samples:  [3.24329008 5.52050421]\n"
     ]
    }
   ],
   "source": [
    "#Question 1\n",
    "samples = np.dstack((xOne, xTwo))[0]\n",
    "print(\"Shape of samples: \", np.shape(samples))\n",
    "sampleMean = np.mean(samples, axis=0)\n",
    "print(\"Mean of samples: \", sampleMean)\n",
    "\n",
    "# print(xOne)\n",
    "# print(xTwo)\n",
    "#print('\\n', samples)"
   ]
  },
  {
   "cell_type": "markdown",
   "metadata": {},
   "source": [
    "## Question 2"
   ]
  },
  {
   "cell_type": "code",
   "execution_count": 180,
   "metadata": {},
   "outputs": [
    {
     "name": "stdout",
     "output_type": "stream",
     "text": [
      "[[8.41540931 4.51673469]\n",
      " [4.51673469 6.10325205]]\n"
     ]
    }
   ],
   "source": [
    "#Question 2\n",
    "cov = np.cov(samples.T)\n",
    "print(cov)"
   ]
  },
  {
   "cell_type": "markdown",
   "metadata": {},
   "source": [
    "## Question 3"
   ]
  },
  {
   "cell_type": "code",
   "execution_count": 228,
   "metadata": {},
   "outputs": [
    {
     "name": "stdout",
     "output_type": "stream",
     "text": [
      "Normalized eigenvector:  [[ 0.78992438 -0.61320427]\n",
      " [ 0.61320427  0.78992438]]\n"
     ]
    }
   ],
   "source": [
    "#Question 3\n",
    "eigenvalues, normalizedEigenvectors = np.linalg.eig(cov)\n",
    "print(\"Normalized eigenvector: \", normalizedEigenvectors)"
   ]
  },
  {
   "cell_type": "markdown",
   "metadata": {},
   "source": [
    "## Question 4"
   ]
  },
  {
   "cell_type": "code",
   "execution_count": 262,
   "metadata": {},
   "outputs": [
    {
     "name": "stdout",
     "output_type": "stream",
     "text": [
      "Eigenvector with eigenvalue magnitude: \n",
      " [[ 9.41721797 -1.59248604]\n",
      " [ 7.31041905  2.05142661]]\n",
      "Eigenvalue: \n",
      " [11.92167023  2.59699113]\n",
      "SampleMean: \n",
      " [[3.24329008 3.24329008]\n",
      " [5.52050421 5.52050421]]\n"
     ]
    }
   ],
   "source": [
    "#Question 4\n",
    "eigenvectors = np.array(normalizedEigenvectors)\n",
    "eigenvectors[: ,0] = normalizedEigenvectors[:, 0] * eigenvalues[0]\n",
    "eigenvectors[: ,1] = normalizedEigenvectors[:, 1] * eigenvalues[1]\n",
    "\n",
    "print(\"Eigenvector with eigenvalue magnitude: \\n\", eigenvectors)\n",
    "print(\"Eigenvalue: \\n\", eigenvalues)\n",
    "\n",
    "startingPoint = np.array([sampleMean, sampleMean]).T\n",
    "print(\"SampleMean: \\n\", startingPoint)\n",
    "\n",
    "plt.scatter(xOne, xTwo)\n",
    "plt.quiver(startingPoint[0], startingPoint[1], eigenvectors[0], eigenvectors[1], scale= 1, scale_units = 'xy', angles = 'xy', color = ['r', 'k'])\n",
    "plt.xlim(-15, 15)\n",
    "plt.ylim(-15, 15)\n",
    "plt.title(\"Q4 Eigenvector and Sample Points\")\n",
    "plt.xlabel(\"X1\")\n",
    "plt.ylabel(\"X2\")\n",
    "plt.show()"
   ]
  },
  {
   "cell_type": "markdown",
   "metadata": {},
   "source": [
    "## Question 5"
   ]
  },
  {
   "cell_type": "code",
   "execution_count": 263,
   "metadata": {},
   "outputs": [
    {
     "name": "stdout",
     "output_type": "stream",
     "text": [
      "(2, 100)\n"
     ]
    }
   ],
   "source": [
    "normSamples = samples - sampleMean\n",
    "#np.shape(normalizedEigenvectors.T)\n",
    "transposedNormEigenvec = normalizedEigenvectors.T\n",
    "\n",
    "for i in range(0, len(normSamples)):\n",
    "    normSamples[i] = np.dot(transposedNormEigenvec, normSamples[i])\n",
    "\n",
    "print(np.shape(normSamples.T))\n",
    "normSamplesT = normSamples.T\n",
    "plt.scatter(normSamplesT[0], normSamplesT[1])\n",
    "plt.xlim(-15, 15)\n",
    "plt.ylim(-15, 15)\n",
    "plt.title(\"Q5 Normalized Sample Points\")\n",
    "plt.xlabel(\"Evec1\")\n",
    "plt.ylabel(\"Evec2\")\n",
    "plt.show()"
   ]
  },
  {
   "cell_type": "code",
   "execution_count": null,
   "metadata": {},
   "outputs": [],
   "source": []
  }
 ],
 "metadata": {
  "kernelspec": {
   "display_name": "Python 3.11 (XPython Raw)",
   "language": "python",
   "name": "xpython-raw"
  },
  "language_info": {
   "file_extension": ".py",
   "mimetype": "text/x-python",
   "name": "python",
   "version": "3.11.5"
  }
 },
 "nbformat": 4,
 "nbformat_minor": 2
}
